{
  "cells": [
    {
      "cell_type": "code",
      "execution_count": 56,
      "metadata": {
        "id": "qlij1mcM3wkt"
      },
      "outputs": [],
      "source": [
        "import numpy as np\n",
        "import math "
      ]
    },
    {
      "cell_type": "code",
      "execution_count": 57,
      "metadata": {
        "id": "BfrbfXc34HZB"
      },
      "outputs": [],
      "source": [
        "def f(xs):\n",
        "  sum = 0\n",
        "  for x in xs:\n",
        "    x1, x2, x3, x4 = x\n",
        "    sum += math.factorial(x1+x2+x3+x4)/(math.factorial(x1)*math.factorial(x2)*math.factorial(x3)*math.factorial(x4))\n",
        "  return sum"
      ]
    },
    {
      "cell_type": "code",
      "execution_count": 58,
      "metadata": {},
      "outputs": [],
      "source": [
        "answers = []\n",
        "def BPP(x1, x2, x3, x4, s):\n",
        "    if s == 0:\n",
        "        answers.append([x1, x2, x3, x4]) \n",
        "    if s>=2:\n",
        "        BPP(x1+1, x2, x3, x4, s-2)\n",
        "    if s>=4:\n",
        "        BPP(x1, x2+1, x3, x4, s-4)\n",
        "    if s>=5:\n",
        "        BPP(x1, x2, x3+1, x4, s-5)\n",
        "    if s>=8:\n",
        "        BPP(x1, x2, x3, x4+1, s-8)\n",
        "BPP(0, 0, 0, 0, 10)"
      ]
    },
    {
      "cell_type": "code",
      "execution_count": 60,
      "metadata": {},
      "outputs": [],
      "source": [
        "def find_paths(answers):\n",
        "    path = []\n",
        "    for ans in answers:\n",
        "        if ans not in path:\n",
        "            path.append(ans)\n",
        "    print('points:', path)\n",
        "    print('summation:', f(path))"
      ]
    },
    {
      "cell_type": "code",
      "execution_count": 61,
      "metadata": {},
      "outputs": [
        {
          "name": "stdout",
          "output_type": "stream",
          "text": [
            "points: [[5, 0, 0, 0], [3, 1, 0, 0], [1, 2, 0, 0], [1, 0, 0, 1], [0, 0, 2, 0]]\n",
            "summation: 11.0\n"
          ]
        }
      ],
      "source": [
        "find_paths(answers)"
      ]
    }
  ],
  "metadata": {
    "colab": {
      "provenance": []
    },
    "kernelspec": {
      "display_name": "base",
      "language": "python",
      "name": "python3"
    },
    "language_info": {
      "codemirror_mode": {
        "name": "ipython",
        "version": 3
      },
      "file_extension": ".py",
      "mimetype": "text/x-python",
      "name": "python",
      "nbconvert_exporter": "python",
      "pygments_lexer": "ipython3",
      "version": "3.9.7"
    },
    "vscode": {
      "interpreter": {
        "hash": "61b44da3ef299b5a24cadc37a78de795444490e854f561d2afd41125faa70719"
      }
    }
  },
  "nbformat": 4,
  "nbformat_minor": 0
}
